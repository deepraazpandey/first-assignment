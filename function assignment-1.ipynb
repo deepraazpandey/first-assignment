{
 "cells": [
  {
   "cell_type": "markdown",
   "id": "ff52147c-ee7d-49b9-9205-15d3f5b40756",
   "metadata": {},
   "source": [
    "Que -1). which keyword is used to create a function ? Create a function to return a list of odd numbers in the range of 1 to 25."
   ]
  },
  {
   "cell_type": "markdown",
   "id": "9260fed7-b713-480c-8b0a-b5174462db8e",
   "metadata": {},
   "source": [
    "Ans"
   ]
  },
  {
   "cell_type": "markdown",
   "id": "de42f888-8c4e-4ac8-a71e-8accf54ab680",
   "metadata": {},
   "source": [
    "def test() - def keyword is used for function."
   ]
  },
  {
   "cell_type": "code",
   "execution_count": 11,
   "id": "ed4afcee-d5ca-4990-87e8-d2f8c5e98d8a",
   "metadata": {},
   "outputs": [],
   "source": [
    "def test(start,end):\n",
    "    \n",
    "    for num in range(start, end+1):\n",
    "        \n",
    "        if num % 2 != 0:\n",
    "            \n",
    "            print(num,end =\" \")"
   ]
  },
  {
   "cell_type": "code",
   "execution_count": 13,
   "id": "d4c942cd-d76b-4298-8576-1a384dedc0c0",
   "metadata": {},
   "outputs": [
    {
     "name": "stdout",
     "output_type": "stream",
     "text": [
      "1 3 5 7 9 11 13 15 17 19 21 23 25 "
     ]
    }
   ],
   "source": [
    "test(1,25)"
   ]
  },
  {
   "cell_type": "markdown",
   "id": "b13e579f-1cdc-4239-a30c-82df9ab68967",
   "metadata": {},
   "source": [
    "Ques-2). why *args and **kwargs is used in some function ? create a function each for *args and **kwargs to demonstrate their use."
   ]
  },
  {
   "cell_type": "markdown",
   "id": "0fa62b04-5fc7-4891-b61a-09e2eb19d18e",
   "metadata": {},
   "source": [
    "Ans."
   ]
  },
  {
   "cell_type": "markdown",
   "id": "74776f8b-cf45-448e-8bd2-128bc2889b15",
   "metadata": {},
   "source": [
    "*args - * n number of argument you can pass inside a function (inside the tuple)\n"
   ]
  },
  {
   "cell_type": "markdown",
   "id": "01213826-8ccc-4766-b568-16d9e4e247a6",
   "metadata": {},
   "source": [
    "**kwargs - ** usercontain dictionary form (key : value) n number of data"
   ]
  },
  {
   "cell_type": "code",
   "execution_count": 16,
   "id": "8974f9e5-82dc-4294-88ab-db1474055323",
   "metadata": {},
   "outputs": [],
   "source": [
    "def test1(*args) :\n",
    "    return args"
   ]
  },
  {
   "cell_type": "code",
   "execution_count": 17,
   "id": "e86208c7-2947-4840-87c9-8d33aa156a62",
   "metadata": {},
   "outputs": [
    {
     "data": {
      "text/plain": [
       "(1, 2, 3, 4)"
      ]
     },
     "execution_count": 17,
     "metadata": {},
     "output_type": "execute_result"
    }
   ],
   "source": [
    "test1(1,2,3,4)"
   ]
  },
  {
   "cell_type": "code",
   "execution_count": 18,
   "id": "4e7531ce-3bd0-4cd4-8b91-5ee634714671",
   "metadata": {},
   "outputs": [
    {
     "data": {
      "text/plain": [
       "(1, 2, 3, 4, 'rakesh', [1, 2, 3])"
      ]
     },
     "execution_count": 18,
     "metadata": {},
     "output_type": "execute_result"
    }
   ],
   "source": [
    "test1(1,2,3,4,\"rakesh\",[1,2,3])"
   ]
  },
  {
   "cell_type": "code",
   "execution_count": 19,
   "id": "ef08fee2-4365-41e4-869c-ab2241c0f34d",
   "metadata": {},
   "outputs": [],
   "source": [
    "def test2(**kwargs):\n",
    "    return kwargs"
   ]
  },
  {
   "cell_type": "code",
   "execution_count": 20,
   "id": "f289ebac-0bfd-437f-abdc-c6bb9fba2885",
   "metadata": {},
   "outputs": [
    {
     "data": {
      "text/plain": [
       "{}"
      ]
     },
     "execution_count": 20,
     "metadata": {},
     "output_type": "execute_result"
    }
   ],
   "source": [
    "test2()"
   ]
  },
  {
   "cell_type": "code",
   "execution_count": 21,
   "id": "077dc8b9-feb6-4562-8b96-a4c938b9d37d",
   "metadata": {},
   "outputs": [
    {
     "data": {
      "text/plain": [
       "dict"
      ]
     },
     "execution_count": 21,
     "metadata": {},
     "output_type": "execute_result"
    }
   ],
   "source": [
    "type(test2())"
   ]
  },
  {
   "cell_type": "code",
   "execution_count": 22,
   "id": "3f74e29f-9985-469c-bd28-a57a4e8bd2f7",
   "metadata": {},
   "outputs": [
    {
     "data": {
      "text/plain": [
       "{'a': [1, 2, 3, 4], 'b': 'Rakesh', 'c': 23.5}"
      ]
     },
     "execution_count": 22,
     "metadata": {},
     "output_type": "execute_result"
    }
   ],
   "source": [
    "test2(a=[1,2,3,4],b =\"Rakesh\", c = 23.5)"
   ]
  },
  {
   "cell_type": "markdown",
   "id": "491a3f95-78f0-47c2-a432-167945c97985",
   "metadata": {},
   "source": [
    "\n",
    "\n",
    "Ques-3). What is an iterator in python ? Name the method used to initialise the iterator object and the method used for iteration. Use these methods to print the first five element of the given list [2,4,6,8,10,12,14,16,18,20]."
   ]
  },
  {
   "cell_type": "markdown",
   "id": "9a715549-2527-4884-81ac-c4ffa5cb1185",
   "metadata": {},
   "source": [
    "iterator - An iterator in Python is an object that is used to iterate over iterable objects like lists, tuples, dicts, and sets."
   ]
  },
  {
   "cell_type": "markdown",
   "id": "cd42ef74-c89b-480f-b54f-88a8672057cd",
   "metadata": {},
   "source": [
    "example"
   ]
  },
  {
   "cell_type": "code",
   "execution_count": 24,
   "id": "4a9410d9-233c-48c6-9c53-9da5c14c268e",
   "metadata": {},
   "outputs": [],
   "source": [
    "s = \"Rakesh\""
   ]
  },
  {
   "cell_type": "code",
   "execution_count": 26,
   "id": "ba42e7b9-c46b-4442-bf9f-d582ad215ccb",
   "metadata": {},
   "outputs": [],
   "source": [
    "s1 = iter(s)\n"
   ]
  },
  {
   "cell_type": "code",
   "execution_count": 27,
   "id": "eae7d9e9-78f2-410e-8999-e81c47142d7e",
   "metadata": {},
   "outputs": [
    {
     "data": {
      "text/plain": [
       "'R'"
      ]
     },
     "execution_count": 27,
     "metadata": {},
     "output_type": "execute_result"
    }
   ],
   "source": [
    "next(s1)"
   ]
  },
  {
   "cell_type": "code",
   "execution_count": 28,
   "id": "ae3fb0c0-c995-41c1-bc57-5a35d9c60a10",
   "metadata": {},
   "outputs": [
    {
     "data": {
      "text/plain": [
       "'a'"
      ]
     },
     "execution_count": 28,
     "metadata": {},
     "output_type": "execute_result"
    }
   ],
   "source": [
    "next(s1)"
   ]
  },
  {
   "cell_type": "code",
   "execution_count": 29,
   "id": "f42aab84-00aa-4c66-9ad4-22092c23bb45",
   "metadata": {},
   "outputs": [
    {
     "data": {
      "text/plain": [
       "'k'"
      ]
     },
     "execution_count": 29,
     "metadata": {},
     "output_type": "execute_result"
    }
   ],
   "source": [
    "next(s1)"
   ]
  },
  {
   "cell_type": "code",
   "execution_count": 30,
   "id": "51190808-4316-4788-9d4d-ab1117f61911",
   "metadata": {},
   "outputs": [
    {
     "data": {
      "text/plain": [
       "'e'"
      ]
     },
     "execution_count": 30,
     "metadata": {},
     "output_type": "execute_result"
    }
   ],
   "source": [
    "next(s1)"
   ]
  },
  {
   "cell_type": "code",
   "execution_count": 31,
   "id": "7021cd27-d722-48e0-aafd-64f9ba89b79b",
   "metadata": {},
   "outputs": [
    {
     "data": {
      "text/plain": [
       "'s'"
      ]
     },
     "execution_count": 31,
     "metadata": {},
     "output_type": "execute_result"
    }
   ],
   "source": [
    "next(s1)"
   ]
  },
  {
   "cell_type": "code",
   "execution_count": 32,
   "id": "42103a7f-64f8-40e1-a237-dffb7cf7a054",
   "metadata": {},
   "outputs": [
    {
     "data": {
      "text/plain": [
       "'h'"
      ]
     },
     "execution_count": 32,
     "metadata": {},
     "output_type": "execute_result"
    }
   ],
   "source": [
    "next(s1)"
   ]
  },
  {
   "cell_type": "code",
   "execution_count": 33,
   "id": "c2d712f6-5ad1-4241-9aa0-a8b097d67561",
   "metadata": {},
   "outputs": [],
   "source": [
    "l = [2,4,6,8,10,12,14,16,18,20]"
   ]
  },
  {
   "cell_type": "code",
   "execution_count": 35,
   "id": "f8743d23-04d8-4d88-b1bc-ac19978531af",
   "metadata": {},
   "outputs": [
    {
     "data": {
      "text/plain": [
       "[2, 4, 6, 8, 10]"
      ]
     },
     "execution_count": 35,
     "metadata": {},
     "output_type": "execute_result"
    }
   ],
   "source": [
    "list(filter(lambda x : x < 12, l))"
   ]
  },
  {
   "cell_type": "markdown",
   "id": "8fbd1962-a19e-4c91-8028-09109fc683c4",
   "metadata": {},
   "source": [
    "\n",
    "\n",
    "Ques 4). What is a generator function in python ? Why yield keyword is used ? give an example of generator function.\n"
   ]
  },
  {
   "cell_type": "markdown",
   "id": "6a1cc9fe-f898-4706-bcaa-a7d403043af2",
   "metadata": {},
   "source": [
    "generator function - special type of function, create a generator function an reduce the memory optimization "
   ]
  },
  {
   "cell_type": "markdown",
   "id": "8188a061-ec94-454e-bad9-8f2ba314fd3c",
   "metadata": {},
   "source": [
    "yield - special reserve key word, generate to help the create a  geretator function."
   ]
  },
  {
   "cell_type": "markdown",
   "id": "59210983-f7a5-40a0-ab5e-afe7866f0497",
   "metadata": {},
   "source": [
    "Example"
   ]
  },
  {
   "cell_type": "code",
   "execution_count": 40,
   "id": "3f9c6fea-cffd-4aa3-aeae-e5614dc1d018",
   "metadata": {},
   "outputs": [],
   "source": [
    "def test9_fib(n):\n",
    "    a,b = 0,1\n",
    "    for i in range(n):\n",
    "        yield a\n",
    "        a,b = b , a+b"
   ]
  },
  {
   "cell_type": "code",
   "execution_count": 41,
   "id": "e45888bd-85b1-4df0-9e60-1ea4a8dda82c",
   "metadata": {},
   "outputs": [
    {
     "data": {
      "text/plain": [
       "<generator object test9_fib at 0x7efedde19d20>"
      ]
     },
     "execution_count": 41,
     "metadata": {},
     "output_type": "execute_result"
    }
   ],
   "source": [
    "test9_fib(5)"
   ]
  },
  {
   "cell_type": "code",
   "execution_count": 43,
   "id": "07d1368c-6cbb-4704-a00c-dad32063321a",
   "metadata": {},
   "outputs": [
    {
     "name": "stdout",
     "output_type": "stream",
     "text": [
      "0\n",
      "1\n",
      "1\n",
      "2\n",
      "3\n"
     ]
    }
   ],
   "source": [
    "for i in test9_fib(5):\n",
    "    print(i)"
   ]
  },
  {
   "cell_type": "markdown",
   "id": "b68161c5-5846-4f67-9a9f-5c797f14cd5a",
   "metadata": {},
   "source": [
    "\n",
    "Ques 5). Create a generator function for prime numbers less than 1000. Use the next() method to print the\n",
    "first 20 prime numbers. \n"
   ]
  },
  {
   "cell_type": "code",
   "execution_count": 45,
   "id": "47ecf036-6830-479e-91db-885369ae64c1",
   "metadata": {},
   "outputs": [
    {
     "name": "stdout",
     "output_type": "stream",
     "text": [
      "1\n",
      "2\n",
      "3\n",
      "5\n",
      "7\n",
      "11\n",
      "13\n",
      "17\n",
      "19\n",
      "23\n",
      "29\n",
      "31\n",
      "37\n",
      "41\n",
      "43\n",
      "47\n",
      "53\n",
      "59\n",
      "61\n",
      "67\n"
     ]
    }
   ],
   "source": [
    "def prime_fib() :\n",
    "    for i in range(1,1000):\n",
    "        for num in range(2,i):\n",
    "            if i % num == 0:\n",
    "                break\n",
    "        else:\n",
    "            yield i\n",
    "fib = prime_fib()\n",
    "for i in range(20):\n",
    "    print(next(fib))"
   ]
  },
  {
   "cell_type": "markdown",
   "id": "f14a27fd-96d0-4673-b286-4aca4497d96b",
   "metadata": {},
   "source": [
    "Ques 6). Write a python program to print the first 10 Fibonacci numbers using a while loop."
   ]
  },
  {
   "cell_type": "markdown",
   "id": "c1f636c3-c17e-43c6-8a2a-1ef251ceff52",
   "metadata": {},
   "source": [
    "Ans.\n"
   ]
  },
  {
   "cell_type": "code",
   "execution_count": 61,
   "id": "85152049-66fd-43a5-8d19-71f789289195",
   "metadata": {},
   "outputs": [
    {
     "name": "stdout",
     "output_type": "stream",
     "text": [
      "0\n",
      "1\n",
      "1\n",
      "2\n",
      "3\n",
      "5\n",
      "8\n",
      "13\n",
      "21\n",
      "34\n"
     ]
    }
   ],
   "source": [
    "def test_fib():\n",
    "    a,b = 0,1\n",
    "    while True :\n",
    "        yield a\n",
    "        a,b = b, a+b\n",
    "fib = test_fib()\n",
    "for i in range(10) :\n",
    "    print(next(fib))"
   ]
  },
  {
   "cell_type": "markdown",
   "id": "5e171c7b-a5f9-4668-8d0e-1bf3284818e5",
   "metadata": {},
   "source": [
    "Ques 7). Write a List Comprehension to iterate through the given string: ‘pwskills’.\n",
    "Expected output: ['p', 'w', 's', 'k', 'i', 'l', 'l', 's']"
   ]
  },
  {
   "cell_type": "markdown",
   "id": "737deb68-4531-4eb8-9a11-b43ccf562a26",
   "metadata": {},
   "source": [
    "Ans."
   ]
  },
  {
   "cell_type": "code",
   "execution_count": 72,
   "id": "a76de359-3b08-4521-bdfe-52aca79d23f9",
   "metadata": {},
   "outputs": [],
   "source": [
    "s = \"pwskills\"\n"
   ]
  },
  {
   "cell_type": "code",
   "execution_count": 73,
   "id": "87db1506-a8aa-44b7-abd7-0a405d9485be",
   "metadata": {},
   "outputs": [
    {
     "name": "stdout",
     "output_type": "stream",
     "text": [
      "p\n",
      "w\n",
      "s\n",
      "k\n",
      "i\n",
      "l\n",
      "l\n",
      "s\n"
     ]
    }
   ],
   "source": [
    "for i in s:\n",
    "    print(i)"
   ]
  },
  {
   "cell_type": "code",
   "execution_count": 77,
   "id": "69123b14-a6dd-44b2-8f54-a4e63cbbae1e",
   "metadata": {},
   "outputs": [],
   "source": [
    "s1 = iter(s)\n"
   ]
  },
  {
   "cell_type": "code",
   "execution_count": 78,
   "id": "b78d7394-54c0-4e34-9328-4f99de8406bd",
   "metadata": {},
   "outputs": [
    {
     "data": {
      "text/plain": [
       "'p'"
      ]
     },
     "execution_count": 78,
     "metadata": {},
     "output_type": "execute_result"
    }
   ],
   "source": [
    "next(s1)"
   ]
  },
  {
   "cell_type": "code",
   "execution_count": 79,
   "id": "20e0b978-fa48-4545-a3ee-7c16d13c97c2",
   "metadata": {},
   "outputs": [
    {
     "data": {
      "text/plain": [
       "'w'"
      ]
     },
     "execution_count": 79,
     "metadata": {},
     "output_type": "execute_result"
    }
   ],
   "source": [
    "next(s1)"
   ]
  },
  {
   "cell_type": "code",
   "execution_count": 80,
   "id": "c926eacd-6492-4623-9097-2c420b128748",
   "metadata": {},
   "outputs": [
    {
     "data": {
      "text/plain": [
       "'s'"
      ]
     },
     "execution_count": 80,
     "metadata": {},
     "output_type": "execute_result"
    }
   ],
   "source": [
    "next(s1)"
   ]
  },
  {
   "cell_type": "code",
   "execution_count": 81,
   "id": "f146c438-ac18-46ba-9d45-41831cd8f583",
   "metadata": {},
   "outputs": [
    {
     "data": {
      "text/plain": [
       "'k'"
      ]
     },
     "execution_count": 81,
     "metadata": {},
     "output_type": "execute_result"
    }
   ],
   "source": [
    "next(s1)"
   ]
  },
  {
   "cell_type": "code",
   "execution_count": 71,
   "id": "af9a7060-5ca2-4481-9dba-4300e1bfd30b",
   "metadata": {},
   "outputs": [
    {
     "data": {
      "text/plain": [
       "'l'"
      ]
     },
     "execution_count": 71,
     "metadata": {},
     "output_type": "execute_result"
    }
   ],
   "source": [
    "next(s1)"
   ]
  },
  {
   "cell_type": "code",
   "execution_count": 82,
   "id": "22cc9697-0e3d-45b0-b1f8-04f9ec456d11",
   "metadata": {},
   "outputs": [
    {
     "data": {
      "text/plain": [
       "'i'"
      ]
     },
     "execution_count": 82,
     "metadata": {},
     "output_type": "execute_result"
    }
   ],
   "source": [
    "next(s1)"
   ]
  },
  {
   "cell_type": "code",
   "execution_count": 83,
   "id": "71ce122b-9a82-469b-b9be-1b2f316c5a7c",
   "metadata": {},
   "outputs": [
    {
     "data": {
      "text/plain": [
       "'l'"
      ]
     },
     "execution_count": 83,
     "metadata": {},
     "output_type": "execute_result"
    }
   ],
   "source": [
    "next(s1)"
   ]
  },
  {
   "cell_type": "code",
   "execution_count": 84,
   "id": "ccd6efb2-1552-411e-a829-3f256612c2f3",
   "metadata": {},
   "outputs": [
    {
     "data": {
      "text/plain": [
       "'l'"
      ]
     },
     "execution_count": 84,
     "metadata": {},
     "output_type": "execute_result"
    }
   ],
   "source": [
    "next(s1)"
   ]
  },
  {
   "cell_type": "code",
   "execution_count": 85,
   "id": "23168127-0f6c-421b-b61f-01737e235253",
   "metadata": {},
   "outputs": [
    {
     "data": {
      "text/plain": [
       "'s'"
      ]
     },
     "execution_count": 85,
     "metadata": {},
     "output_type": "execute_result"
    }
   ],
   "source": [
    "next(s1)"
   ]
  },
  {
   "cell_type": "markdown",
   "id": "f494147b-bbc9-45e5-993a-9ac577db9eab",
   "metadata": {},
   "source": [
    "Ques 8). Write a python program to check whether a given number is Palindrome or not using a while loop."
   ]
  },
  {
   "cell_type": "markdown",
   "id": "002bffcc-d5f9-4dad-b9a5-d50e8e492640",
   "metadata": {},
   "source": [
    "Ans."
   ]
  },
  {
   "cell_type": "code",
   "execution_count": 6,
   "id": "22a436bb-b933-4463-afbb-72c1d82b48fa",
   "metadata": {},
   "outputs": [
    {
     "name": "stdout",
     "output_type": "stream",
     "text": [
      "121\n"
     ]
    }
   ],
   "source": [
    "def isPalindrome(i):\n",
    "    return i == i[::-1]\n",
    "i = \"121\"\n",
    "ans = isPalindrome(int)\n",
    "if ans :\n",
    "    print(i)"
   ]
  },
  {
   "cell_type": "code",
   "execution_count": 7,
   "id": "b917f287-14db-4c7e-8727-1c4a4fad408b",
   "metadata": {},
   "outputs": [
    {
     "name": "stdout",
     "output_type": "stream",
     "text": [
      "yes\n"
     ]
    }
   ],
   "source": [
    "def isPalindrome(i):\n",
    "    return i == i[::-1]\n",
    "i = \"121\"\n",
    "ans = isPalindrome(int)\n",
    "if ans :\n",
    "    print(\"yes\")\n",
    "else:\n",
    "    print(\"N0\")"
   ]
  },
  {
   "cell_type": "markdown",
   "id": "492e096d-32f2-4e00-8706-2e855abd07eb",
   "metadata": {},
   "source": [
    "Ques-9). Write a code to print odd numbers from 1 to 100 using list comprehension."
   ]
  },
  {
   "cell_type": "markdown",
   "id": "b350f0bd-2997-4c39-baf8-dffe1532e435",
   "metadata": {},
   "source": [
    "Ans"
   ]
  },
  {
   "cell_type": "code",
   "execution_count": 9,
   "id": "af0bbf0f-14d3-4f9b-ae78-ce68b8d63435",
   "metadata": {},
   "outputs": [
    {
     "name": "stdout",
     "output_type": "stream",
     "text": [
      "1\n",
      "2\n",
      "3\n",
      "5\n",
      "7\n",
      "11\n",
      "13\n",
      "17\n",
      "19\n",
      "23\n",
      "29\n",
      "31\n",
      "37\n",
      "41\n",
      "43\n",
      "47\n",
      "53\n",
      "59\n",
      "61\n",
      "67\n",
      "71\n",
      "73\n",
      "79\n",
      "83\n",
      "89\n",
      "97\n"
     ]
    }
   ],
   "source": [
    "for num in range(1,100):\n",
    "    if num > 0:\n",
    "        for i in range(2,num):\n",
    "            if (num % i)==0:\n",
    "                break\n",
    "        else :\n",
    "            print(num)"
   ]
  },
  {
   "cell_type": "code",
   "execution_count": null,
   "id": "455fa632-8aaf-48f6-bb67-820b62af4c51",
   "metadata": {},
   "outputs": [],
   "source": []
  }
 ],
 "metadata": {
  "kernelspec": {
   "display_name": "Python 3 (ipykernel)",
   "language": "python",
   "name": "python3"
  },
  "language_info": {
   "codemirror_mode": {
    "name": "ipython",
    "version": 3
   },
   "file_extension": ".py",
   "mimetype": "text/x-python",
   "name": "python",
   "nbconvert_exporter": "python",
   "pygments_lexer": "ipython3",
   "version": "3.10.8"
  }
 },
 "nbformat": 4,
 "nbformat_minor": 5
}
