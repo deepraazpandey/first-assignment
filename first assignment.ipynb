{
 "cells": [
  {
   "cell_type": "markdown",
   "id": "d420fb86-0556-4959-ad7c-8408210b23bb",
   "metadata": {},
   "source": [
    "ques 1) Create one variable containing following type of data:\n",
    "     i) string\n",
    "    ii) list\n",
    "   iii) float\n",
    "    iv) tuple"
   ]
  },
  {
   "cell_type": "markdown",
   "id": "e8b51b6c-5704-49cb-ba28-7bbc351cb95c",
   "metadata": {},
   "source": [
    "\n",
    "ans"
   ]
  },
  {
   "cell_type": "code",
   "execution_count": 2,
   "id": "0c3ef74c-0c27-4c31-a2d1-fb437f0ba9c1",
   "metadata": {},
   "outputs": [],
   "source": [
    "l = [ 2,3,4,5,45.5,\"rakesh\", True, False, 5+5j]"
   ]
  },
  {
   "cell_type": "code",
   "execution_count": 3,
   "id": "4c9f4b7a-0330-403a-9c5d-8e1662be0b57",
   "metadata": {},
   "outputs": [
    {
     "data": {
      "text/plain": [
       "[2, 3, 4, 5, 45.5, 'rakesh', True, False, (5+5j)]"
      ]
     },
     "execution_count": 3,
     "metadata": {},
     "output_type": "execute_result"
    }
   ],
   "source": [
    "l"
   ]
  },
  {
   "cell_type": "markdown",
   "id": "4dab4ded-33ee-4cd6-bc51-3a878d37c3f7",
   "metadata": {},
   "source": [
    "ques 2). Given are some folling variables containing data:\n",
    "\n",
    "\n",
    "i) var1=''\n",
    "ii) var2='[DS, ML, Python]'\n",
    "iii) var3= ['DS', 'ML','Python']\n",
    "iv) var4 = l\n",
    "\n",
    "What will be the data type of the above given variable\n"
   ]
  },
  {
   "cell_type": "markdown",
   "id": "cbd156f9-6000-4533-b0a9-1f67a9b80d6a",
   "metadata": {},
   "source": [
    "Ans"
   ]
  },
  {
   "cell_type": "code",
   "execution_count": 6,
   "id": "c878bedb-b8e6-4494-93fc-3e33617368fc",
   "metadata": {},
   "outputs": [],
   "source": [
    "var1=''"
   ]
  },
  {
   "cell_type": "code",
   "execution_count": 7,
   "id": "ff7ffe9b-6964-4708-b93d-b85956c0d23b",
   "metadata": {},
   "outputs": [
    {
     "data": {
      "text/plain": [
       "str"
      ]
     },
     "execution_count": 7,
     "metadata": {},
     "output_type": "execute_result"
    }
   ],
   "source": [
    "type(var1)"
   ]
  },
  {
   "cell_type": "code",
   "execution_count": 9,
   "id": "0fe6120b-7916-4244-ab3f-20b39655af9d",
   "metadata": {},
   "outputs": [],
   "source": [
    "var2='[DS,ML,Python]'"
   ]
  },
  {
   "cell_type": "code",
   "execution_count": 10,
   "id": "50fa6731-c919-49b3-be00-d6cfbbfb00ca",
   "metadata": {},
   "outputs": [
    {
     "data": {
      "text/plain": [
       "str"
      ]
     },
     "execution_count": 10,
     "metadata": {},
     "output_type": "execute_result"
    }
   ],
   "source": [
    "type(var2)"
   ]
  },
  {
   "cell_type": "code",
   "execution_count": 11,
   "id": "ecb4ac14-70c9-4dfb-a33d-586617215373",
   "metadata": {},
   "outputs": [],
   "source": [
    "var3=['DS','ML','Python']"
   ]
  },
  {
   "cell_type": "code",
   "execution_count": 12,
   "id": "c6308f98-5fbf-4964-b87d-5ea5ca7d0fcc",
   "metadata": {},
   "outputs": [
    {
     "data": {
      "text/plain": [
       "list"
      ]
     },
     "execution_count": 12,
     "metadata": {},
     "output_type": "execute_result"
    }
   ],
   "source": [
    "type(var3)"
   ]
  },
  {
   "cell_type": "code",
   "execution_count": 14,
   "id": "12440c3b-d698-4600-a382-583a851e8720",
   "metadata": {},
   "outputs": [],
   "source": [
    "var4=1."
   ]
  },
  {
   "cell_type": "code",
   "execution_count": 16,
   "id": "f7a1e3f7-c9d1-409a-a566-1b777df0487f",
   "metadata": {},
   "outputs": [
    {
     "data": {
      "text/plain": [
       "float"
      ]
     },
     "execution_count": 16,
     "metadata": {},
     "output_type": "execute_result"
    }
   ],
   "source": [
    "type(var4)"
   ]
  },
  {
   "cell_type": "markdown",
   "id": "5632eda8-48e3-45ee-801c-7f8686ef8b63",
   "metadata": {},
   "source": [
    "\n",
    "\n",
    "Ques 3). Explain the use of the following operators using an example :\n",
    "\n",
    "    \n",
    "    i) /\n",
    "    ii) %\n",
    "    iii) //\n",
    "    iv) **"
   ]
  },
  {
   "cell_type": "markdown",
   "id": "5a99c6f8-8302-4a9c-b658-c862200b6c02",
   "metadata": {},
   "source": [
    "\n",
    "Ans"
   ]
  },
  {
   "cell_type": "markdown",
   "id": "e06bc4b8-3c63-45cb-8cf3-01f5b007b341",
   "metadata": {},
   "source": [
    "i)  / - Divison"
   ]
  },
  {
   "cell_type": "code",
   "execution_count": 17,
   "id": "e8557a0a-7ab1-4d94-996c-f4a584815ca8",
   "metadata": {},
   "outputs": [
    {
     "data": {
      "text/plain": [
       "2.0"
      ]
     },
     "execution_count": 17,
     "metadata": {},
     "output_type": "execute_result"
    }
   ],
   "source": [
    "4/2"
   ]
  },
  {
   "cell_type": "markdown",
   "id": "93de788a-7e1c-4bb7-9e99-5ff07b897539",
   "metadata": {},
   "source": [
    "ii) % - Module"
   ]
  },
  {
   "cell_type": "code",
   "execution_count": 18,
   "id": "3e18c8f8-19cb-47d7-884b-90db2581e828",
   "metadata": {},
   "outputs": [
    {
     "data": {
      "text/plain": [
       "1"
      ]
     },
     "execution_count": 18,
     "metadata": {},
     "output_type": "execute_result"
    }
   ],
   "source": [
    "5 % 2"
   ]
  },
  {
   "cell_type": "markdown",
   "id": "23c7cf17-9487-4cab-ae51-cafd46f25eb2",
   "metadata": {},
   "source": [
    "iii)  // - floor division"
   ]
  },
  {
   "cell_type": "code",
   "execution_count": 20,
   "id": "89c55339-c0b2-4b40-b7aa-40483bac6e11",
   "metadata": {},
   "outputs": [
    {
     "data": {
      "text/plain": [
       "3"
      ]
     },
     "execution_count": 20,
     "metadata": {},
     "output_type": "execute_result"
    }
   ],
   "source": [
    "10 // 3"
   ]
  },
  {
   "cell_type": "markdown",
   "id": "98514c9b-790d-4392-a557-691afc5c1c2c",
   "metadata": {},
   "source": [
    "iv)  ** - Power"
   ]
  },
  {
   "cell_type": "code",
   "execution_count": 21,
   "id": "5d049851-3c1c-4508-af5e-7fa5de0cc87a",
   "metadata": {},
   "outputs": [
    {
     "data": {
      "text/plain": [
       "16"
      ]
     },
     "execution_count": 21,
     "metadata": {},
     "output_type": "execute_result"
    }
   ],
   "source": [
    "4**2"
   ]
  },
  {
   "cell_type": "markdown",
   "id": "b0f29c04-5706-46c4-9874-5034434c3382",
   "metadata": {},
   "source": [
    "\n",
    "\n",
    "Ques 4). Create a list of lengh 10 of your choice containing multiple types of data. using for loop print the element and its data type. "
   ]
  },
  {
   "cell_type": "markdown",
   "id": "6df4d560-25d0-4d15-b936-f923a390c23c",
   "metadata": {},
   "source": [
    "Ans"
   ]
  },
  {
   "cell_type": "code",
   "execution_count": 23,
   "id": "519b06cc-d3f5-4550-90b2-c002612c5db2",
   "metadata": {},
   "outputs": [
    {
     "name": "stdout",
     "output_type": "stream",
     "text": [
      "<class 'int'>\n",
      "<class 'int'>\n",
      "<class 'int'>\n",
      "<class 'int'>\n",
      "<class 'str'>\n",
      "<class 'str'>\n",
      "<class 'float'>\n",
      "<class 'bool'>\n",
      "<class 'bool'>\n",
      "<class 'complex'>\n"
     ]
    }
   ],
   "source": [
    "l = [2,3,4,5,\"rakesh\",\"pwskills\",23.34,True,False,4+5j]\n",
    "for i in l :\n",
    "    print(type(i))"
   ]
  },
  {
   "cell_type": "markdown",
   "id": "a8e74552-053c-472a-9120-8944bfee269c",
   "metadata": {},
   "source": [
    "\n",
    "\n",
    "Ques 5). Using a while loop, varify if the number A is purely divisible by number B and if so then how many times it can be divisible "
   ]
  },
  {
   "cell_type": "markdown",
   "id": "61907dd3-8bb2-4456-85bc-f422ac1b0957",
   "metadata": {},
   "source": [
    "Ans\n"
   ]
  },
  {
   "cell_type": "code",
   "execution_count": 1,
   "id": "0b467d35-5cf9-4d3f-aae3-f26ca580ea17",
   "metadata": {},
   "outputs": [
    {
     "name": "stdin",
     "output_type": "stream",
     "text": [
      " 45\n",
      " 23\n"
     ]
    },
    {
     "name": "stdout",
     "output_type": "stream",
     "text": [
      "divisible not success\n"
     ]
    }
   ],
   "source": [
    "a = int(input())\n",
    "b = int(input())\n",
    "c = 0\n",
    "if a/b==0 :\n",
    "    while (a/b>=b and type(a/b)==int):\n",
    "        c+=1\n",
    "        a/=b\n",
    "    c\n",
    "else :\n",
    "    print(\"divisible not success\")"
   ]
  },
  {
   "cell_type": "markdown",
   "id": "99ccca07-50d0-4091-8dd3-bd90e88e1dcd",
   "metadata": {},
   "source": [
    "Ques 6). Create a list containing 25 int type data. Using for loop and if-else condition print if the element is divisible by 3 or not."
   ]
  },
  {
   "cell_type": "markdown",
   "id": "5490d3cf-5aa5-42d8-b57b-30ec31915d04",
   "metadata": {},
   "source": [
    "Ans."
   ]
  },
  {
   "cell_type": "code",
   "execution_count": 10,
   "id": "6346d5f8-5587-4606-9ba5-ee36cad2af2b",
   "metadata": {},
   "outputs": [
    {
     "data": {
      "text/plain": [
       "[3, 6, 9, 12, 15, 18, 21, 24]"
      ]
     },
     "execution_count": 10,
     "metadata": {},
     "output_type": "execute_result"
    }
   ],
   "source": [
    "l = [1,2,3,4,5,6,7,8,9,10,11,12,13,14,15,16,17,18,19,20,21,22,23,24,25]\n",
    "l1 = []\n",
    "l2 = []\n",
    "for i in l :\n",
    "    if i % 3 == 0:\n",
    "        l1.append(i)\n",
    "    else:\n",
    "            l2.append(i)\n",
    "l1"
   ]
  },
  {
   "cell_type": "code",
   "execution_count": 11,
   "id": "5630b157-0580-439a-b566-31db1b71ff51",
   "metadata": {},
   "outputs": [
    {
     "data": {
      "text/plain": [
       "[1, 2, 4, 5, 7, 8, 10, 11, 13, 14, 16, 17, 19, 20, 22, 23, 25]"
      ]
     },
     "execution_count": 11,
     "metadata": {},
     "output_type": "execute_result"
    }
   ],
   "source": [
    "l2"
   ]
  },
  {
   "cell_type": "code",
   "execution_count": 12,
   "id": "396dffe9-a87e-4211-bb2d-3e95ff737b9f",
   "metadata": {},
   "outputs": [
    {
     "data": {
      "text/plain": [
       "[1,\n",
       " 2,\n",
       " 3,\n",
       " 4,\n",
       " 5,\n",
       " 6,\n",
       " 7,\n",
       " 8,\n",
       " 9,\n",
       " 10,\n",
       " 11,\n",
       " 12,\n",
       " 13,\n",
       " 14,\n",
       " 15,\n",
       " 16,\n",
       " 17,\n",
       " 18,\n",
       " 19,\n",
       " 20,\n",
       " 21,\n",
       " 22,\n",
       " 23,\n",
       " 24,\n",
       " 25]"
      ]
     },
     "execution_count": 12,
     "metadata": {},
     "output_type": "execute_result"
    }
   ],
   "source": [
    "l"
   ]
  },
  {
   "cell_type": "markdown",
   "id": "d85b6de6-d051-4a10-b0c7-ffcf66abbe02",
   "metadata": {},
   "source": [
    "\n",
    "\n",
    "Ques 7). What do you understand about mutable and immutable data types? Give Examples for both showing this property."
   ]
  },
  {
   "cell_type": "markdown",
   "id": "d10cacfb-dc47-4333-a80f-2db98e4eda71",
   "metadata": {},
   "source": [
    "\n",
    "Ans"
   ]
  },
  {
   "cell_type": "code",
   "execution_count": 14,
   "id": "4605ea32-7858-44e7-b73d-79cc5698a41b",
   "metadata": {},
   "outputs": [],
   "source": [
    "l = [1,2,3,4,56,67,78]"
   ]
  },
  {
   "cell_type": "code",
   "execution_count": 16,
   "id": "87f90290-4472-417c-afcc-7540e2cb83da",
   "metadata": {},
   "outputs": [],
   "source": [
    "l[2] = \"Skills\""
   ]
  },
  {
   "cell_type": "code",
   "execution_count": 17,
   "id": "3256166f-8943-4c2b-a873-1f2cff565572",
   "metadata": {},
   "outputs": [
    {
     "data": {
      "text/plain": [
       "[1, 2, 'Skills', 4, 56, 67, 78]"
      ]
     },
     "execution_count": 17,
     "metadata": {},
     "output_type": "execute_result"
    }
   ],
   "source": [
    "l"
   ]
  },
  {
   "cell_type": "code",
   "execution_count": 18,
   "id": "b057f2b2-d059-4c73-87e4-edf91a7f7b1a",
   "metadata": {},
   "outputs": [],
   "source": [
    "s = \"rakesh\""
   ]
  },
  {
   "cell_type": "code",
   "execution_count": 20,
   "id": "92ea1913-b2ed-47f8-85ba-915ccaa2388a",
   "metadata": {},
   "outputs": [
    {
     "ename": "TypeError",
     "evalue": "'str' object does not support item assignment",
     "output_type": "error",
     "traceback": [
      "\u001b[0;31m---------------------------------------------------------------------------\u001b[0m",
      "\u001b[0;31mTypeError\u001b[0m                                 Traceback (most recent call last)",
      "Cell \u001b[0;32mIn[20], line 1\u001b[0m\n\u001b[0;32m----> 1\u001b[0m \u001b[43ms\u001b[49m\u001b[43m[\u001b[49m\u001b[38;5;241;43m3\u001b[39;49m\u001b[43m]\u001b[49m\u001b[38;5;241m=\u001b[39m \u001b[38;5;124m'\u001b[39m\u001b[38;5;124ma\u001b[39m\u001b[38;5;124m'\u001b[39m\n",
      "\u001b[0;31mTypeError\u001b[0m: 'str' object does not support item assignment"
     ]
    }
   ],
   "source": [
    "s[3]= 'a'"
   ]
  },
  {
   "cell_type": "markdown",
   "id": "7bf1018c-f860-4014-a999-829cb44855e0",
   "metadata": {},
   "source": [
    "list is mutable and string is immutable\n"
   ]
  },
  {
   "cell_type": "code",
   "execution_count": null,
   "id": "8acfd431-b6c7-41be-8115-0acd3f2732fc",
   "metadata": {},
   "outputs": [],
   "source": []
  }
 ],
 "metadata": {
  "kernelspec": {
   "display_name": "Python 3 (ipykernel)",
   "language": "python",
   "name": "python3"
  },
  "language_info": {
   "codemirror_mode": {
    "name": "ipython",
    "version": 3
   },
   "file_extension": ".py",
   "mimetype": "text/x-python",
   "name": "python",
   "nbconvert_exporter": "python",
   "pygments_lexer": "ipython3",
   "version": "3.10.8"
  }
 },
 "nbformat": 4,
 "nbformat_minor": 5
}
